{
 "cells": [
  {
   "cell_type": "markdown",
   "id": "b20b3e13",
   "metadata": {},
   "source": [
    "# SUMITHA.V\n",
    "MAIL APPLICATION USING GUI"
   ]
  },
  {
   "cell_type": "code",
   "execution_count": 3,
   "id": "a04e604d",
   "metadata": {},
   "outputs": [],
   "source": [
    "\n",
    "from tkinter import Tk, Label, Entry, Text, Button\n"
   ]
  },
  {
   "cell_type": "code",
   "execution_count": 2,
   "id": "2006ee92",
   "metadata": {},
   "outputs": [],
   "source": [
    "def send_email():\n",
    "    sender = sender_entry.get()\n",
    "    receiver = receiver_entry.get()\n",
    "    subject = subject_entry.get()\n",
    "    message = message_text.get(\"1.0\", \"end\")\n",
    "\n",
    "    try:\n",
    "        # Connect to the SMTP server\n",
    "        smtp_server = \"smtp.example.com\"  # Replace with your SMTP server address\n",
    "        smtp_port = 587  # Replace with the appropriate port for your SMTP server\n",
    "        smtp_username = \"your_username\"  # Replace with your SMTP username\n",
    "        smtp_password = \"your_password\"  # Replace with your SMTP password\n",
    "\n",
    "        server = smtplib.SMTP(smtp_server, smtp_port)\n",
    "        server.starttls()\n",
    "        server.login(smtp_username, smtp_password)\n",
    "\n",
    "        # Construct the email message\n",
    "        email_message = f\"Subject: {subject}\\n\\n{message}\"\n",
    "\n",
    "        # Send the email\n",
    "        server.sendmail(sender, receiver, email_message)\n",
    "\n",
    "        # Close the connection to the SMTP server\n",
    "        server.quit()\n",
    "\n",
    "        status_label.configure(text=\"Email sent successfully!\", fg=\"green\")\n",
    "    except Exception as e:\n",
    "        status_label.configure(text=f\"Error: {str(e)}\", fg=\"red\")\n",
    "\n",
    "# Create the main window\n",
    "window = Tk()\n",
    "window.title(\"Mail Application\")\n",
    "\n",
    "# Create and position the GUI widgets\n",
    "sender_label = Label(window, text=\"Sender Email:\")\n",
    "sender_entry = Entry(window)\n",
    "\n",
    "receiver_label = Label(window, text=\"Receiver Email:\")\n",
    "receiver_entry = Entry(window)\n",
    "\n",
    "subject_label = Label(window, text=\"Subject:\")\n",
    "subject_entry = Entry(window)\n",
    "\n",
    "message_label = Label(window, text=\"Message:\")\n",
    "message_text = Text(window, height=10, width=30)\n",
    "\n",
    "send_button = Button(window, text=\"Send\", command=send_email)\n",
    "\n",
    "status_label = Label(window, text=\"\")\n",
    "\n",
    "sender_label.grid(row=0, column=0)\n",
    "sender_entry.grid(row=0, column=1)\n",
    "receiver_label.grid(row=1, column=0)\n",
    "receiver_entry.grid(row=1, column=1)\n",
    "subject_label.grid(row=2, column=0)\n",
    "subject_entry.grid(row=2, column=1)\n",
    "message_label.grid(row=3, column=0)\n",
    "message_text.grid(row=3, column=1)\n",
    "send_button.grid(row=4, column=0, columnspan=2)\n",
    "status_label.grid(row=5, column=0, columnspan=2)\n",
    "\n",
    "# Start the application\n",
    "window.mainloop()\n"
   ]
  },
  {
   "cell_type": "code",
   "execution_count": null,
   "id": "4c4e71b6",
   "metadata": {},
   "outputs": [],
   "source": []
  }
 ],
 "metadata": {
  "kernelspec": {
   "display_name": "Python 3",
   "language": "python",
   "name": "python3"
  },
  "language_info": {
   "codemirror_mode": {
    "name": "ipython",
    "version": 3
   },
   "file_extension": ".py",
   "mimetype": "text/x-python",
   "name": "python",
   "nbconvert_exporter": "python",
   "pygments_lexer": "ipython3",
   "version": "3.8.8"
  }
 },
 "nbformat": 4,
 "nbformat_minor": 5
}
